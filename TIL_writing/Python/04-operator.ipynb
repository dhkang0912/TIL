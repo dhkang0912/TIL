{
 "cells": [
  {
   "attachments": {},
   "cell_type": "markdown",
   "metadata": {},
   "source": [
    "# Operator"
   ]
  },
  {
   "attachments": {},
   "cell_type": "markdown",
   "metadata": {},
   "source": [
    "## 연산자"
   ]
  },
  {
   "attachments": {},
   "cell_type": "markdown",
   "metadata": {},
   "source": [
    "### 산술 연산자\n",
    "|     기호    \t|           연산자          \t|\n",
    "|:-----------:\t|:-------------------------:\t|\n",
    "|       -     \t|         음수   부호       \t|\n",
    "|       +     \t|            덧셈           \t|\n",
    "|       -     \t|            뺄셈           \t|\n",
    "|       *     \t|            곱셈           \t|\n",
    "|       /     \t|           나눗셈          \t|\n",
    "|      //     \t|     정수   나눗셈 (몫)    \t|\n",
    "|       %     \t|           나머지          \t|\n",
    "|      **     \t|      지수   (거듭제곱)    \t|"
   ]
  },
  {
   "attachments": {},
   "cell_type": "markdown",
   "metadata": {},
   "source": [
    "### 복합 연산자\n",
    "- <u>***연산***</u>과 <u>***할당***</u>이 함께 이뤄짐\n",
    "- 아래 내용은 둘 다 똑같은 코드이며 둘 다 틀린 것이 아님\n",
    "- 오른쪽이 더 명시적이지만 왼쪽 표현식도 알고 있어야 하는 것\n",
    "\n",
    "|     기호    \t|                  \t|                     \t|\n",
    "|:-----------:\t|:----------------:\t|:-------------------:\t|\n",
    "|      +=     \t|      a   += b    \t|      a   = a + b    \t|\n",
    "|      -=     \t|      a   -= b    \t|      a   = a - b    \t|\n",
    "|      *=     \t|      a   *= b    \t|      a   = a * b    \t|\n",
    "|      /=     \t|      a   /= b    \t|      a   = a / b    \t|\n",
    "|      //=    \t|     a   //= b    \t|     a   = a // b    \t|\n",
    "|      %=     \t|      a   %= b    \t|      a   = a % b    \t|\n",
    "|      **=    \t|     a   **= b    \t|     a   = a ** b    \t|\n"
   ]
  },
  {
   "attachments": {},
   "cell_type": "markdown",
   "metadata": {},
   "source": [
    "#### 복합 연산자 예시\n",
    "```python\n",
    "y = 10\n",
    "y -= 4\n",
    "y = y - 4\n",
    "print(y) # 6\n",
    "\n",
    "z = 7\n",
    "z *= 2\n",
    "z = z * 2\n",
    "print(z) # 14\n",
    "\n",
    "w = 15\n",
    "w /= 4\n",
    "w = w / 4\n",
    "print(w) # 3.75\n",
    "\n",
    "q = 20\n",
    "q //= 3\n",
    "q = q // 3\n",
    "print(q) # 6\n",
    "```"
   ]
  },
  {
   "attachments": {},
   "cell_type": "markdown",
   "metadata": {},
   "source": [
    "#### 실행 해보기"
   ]
  },
  {
   "cell_type": "code",
   "execution_count": null,
   "metadata": {},
   "outputs": [],
   "source": [
    "y = 10\n",
    "y -= 4\n",
    "print(y) \n",
    "\n",
    "z = 7\n",
    "z *= 2\n",
    "print(z) \n",
    "\n",
    "w = 15\n",
    "w /= 4\n",
    "print(w) \n",
    "\n",
    "q = 20\n",
    "q //= 3\n",
    "print(q) "
   ]
  },
  {
   "attachments": {},
   "cell_type": "markdown",
   "metadata": {},
   "source": [
    "### 비교 연산자\n",
    "* 먼저 부등호를 쓰고, 이후 = 를 넣어줌\n",
    "* 프로그래밍에서 !는 not을 의미 -> 역으로 생각\n",
    "\n",
    "|       기호      \t|         내용       \t|\n",
    "|:---------------:\t|:------------------:\t|\n",
    "|         <       \t|         미만       \t|\n",
    "|        <=       \t|         이하       \t|\n",
    "|         >       \t|         초과       \t|\n",
    "|        >=       \t|         이상       \t|\n",
    "|        ==       \t|         같음       \t|\n",
    "|        !=       \t|     같지   않음    \t|\n",
    "|        is       \t|         같음       \t|\n",
    "|     is   not    \t|     같지   않음    \t|"
   ]
  },
  {
   "attachments": {},
   "cell_type": "markdown",
   "metadata": {},
   "source": [
    "#### is 비교 연산자\n",
    "- 매모리 내에서 같은 객체를 참조하는지 확인\n",
    "- <u>== 는 동등성(equality)</u>, <u>***is 는 식별성(identity)***</u>\n",
    "- 값을 비교하는 == 와 다름\n",
    "- is와 is not은 값의 주소를 비교하는 것 (메모리의 위치를 비교)\n",
    "- ***None, True, False***를 비교할 때 사용  \n",
    "  -> 값이 아닌 주소를 비교하기 때문에, 값을 비교할 때 사용하지 않고 주소를 비교하는 것끼리 사용\n",
    "\n",
    "\n",
    "|       기호      \t|         내용       \t|\n",
    "|:---------------:\t|:------------------:\t|\n",
    "|         is      \t|         같음       \t|\n",
    "|        is not      |         같지 않음      | "
   ]
  },
  {
   "attachments": {},
   "cell_type": "markdown",
   "metadata": {},
   "source": [
    "#### 비교 연산자 예시\n",
    "```python\n",
    "print(3 > 6)  # False\n",
    "print(2.0 == 2)  # True\n",
    "print(2 != 2)  # False\n",
    "print('HI' == 'hi')  # False\n",
    "\n",
    "# SyntaxWarning\n",
    "# ==은 값(데이터)을 비교하는 것이지만 is는 레퍼런스(주소)를 비교하기 때문\n",
    "# is 연산자는 되도록이면 **None, True, False** 등을 비교할 때 사용\n",
    "print(2.0 is 2)  # False\n",
    "```"
   ]
  },
  {
   "attachments": {},
   "cell_type": "markdown",
   "metadata": {},
   "source": [
    "#### 실행 해보기"
   ]
  },
  {
   "cell_type": "code",
   "execution_count": 6,
   "metadata": {},
   "outputs": [
    {
     "name": "stdout",
     "output_type": "stream",
     "text": [
      "False\n",
      "True\n",
      "False\n",
      "False\n",
      "False\n",
      "True\n"
     ]
    },
    {
     "name": "stderr",
     "output_type": "stream",
     "text": [
      "<>:6: SyntaxWarning: \"is\" with a literal. Did you mean \"==\"?\n",
      "<>:9: SyntaxWarning: \"is\" with a literal. Did you mean \"==\"?\n",
      "<>:6: SyntaxWarning: \"is\" with a literal. Did you mean \"==\"?\n",
      "<>:9: SyntaxWarning: \"is\" with a literal. Did you mean \"==\"?\n",
      "C:\\Users\\SSAFY\\AppData\\Local\\Temp\\ipykernel_8092\\1233021806.py:6: SyntaxWarning: \"is\" with a literal. Did you mean \"==\"?\n",
      "  print(2.0 is 2)\n",
      "C:\\Users\\SSAFY\\AppData\\Local\\Temp\\ipykernel_8092\\1233021806.py:9: SyntaxWarning: \"is\" with a literal. Did you mean \"==\"?\n",
      "  print(1 is Ture)\n",
      "C:\\Users\\SSAFY\\AppData\\Local\\Temp\\ipykernel_8092\\1233021806.py:9: SyntaxWarning: \"is\" with a literal. Did you mean \"==\"?\n",
      "  print(1 is Ture)\n",
      "C:\\Users\\SSAFY\\AppData\\Local\\Temp\\ipykernel_8092\\1233021806.py:9: SyntaxWarning: \"is\" with a literal. Did you mean \"==\"?\n",
      "  print(1 is Ture)\n"
     ]
    },
    {
     "ename": "NameError",
     "evalue": "name 'Ture' is not defined",
     "output_type": "error",
     "traceback": [
      "\u001b[1;31m---------------------------------------------------------------------------\u001b[0m",
      "\u001b[1;31mNameError\u001b[0m                                 Traceback (most recent call last)",
      "Cell \u001b[1;32mIn[6], line 9\u001b[0m\n\u001b[0;32m      6\u001b[0m \u001b[38;5;28mprint\u001b[39m(\u001b[38;5;241m2.0\u001b[39m \u001b[38;5;129;01mis\u001b[39;00m \u001b[38;5;241m2\u001b[39m)  \n\u001b[0;32m      8\u001b[0m \u001b[38;5;28mprint\u001b[39m(\u001b[38;5;241m1\u001b[39m \u001b[38;5;241m==\u001b[39m \u001b[38;5;28;01mTrue\u001b[39;00m) \u001b[38;5;66;03m#True, 암시적 형변환이 이뤄짐\u001b[39;00m\n\u001b[1;32m----> 9\u001b[0m \u001b[38;5;28mprint\u001b[39m(\u001b[38;5;241m1\u001b[39m \u001b[38;5;129;01mis\u001b[39;00m \u001b[43mTure\u001b[49m)\n",
      "\u001b[1;31mNameError\u001b[0m: name 'Ture' is not defined"
     ]
    }
   ],
   "source": [
    "# 실행 해보기 1\n",
    "print(3 > 6) \n",
    "print(2.0 == 2) \n",
    "print(2 != 2) \n",
    "print('HI' == 'hi') \n",
    "print(2.0 is 2)  \n",
    "\n",
    "print(1 == True) #True, 암시적 형변환이 이뤄짐\n",
    "print(1 is Ture) #False, 암시적 형변환이 아닌 주소를 확인, 다른 것을 파악"
   ]
  },
  {
   "attachments": {},
   "cell_type": "markdown",
   "metadata": {},
   "source": [
    "### 논리 연산자\n",
    "- 좌우를 평가하고 순서에 의해서 출력\n",
    "\n",
    "|     기호    \t|      연산자     \t|                                        내용                                       \t|\n",
    "|:-----------:\t|:---------------:\t|:---------------------------------------------------------------------------------:\t|\n",
    "|      and    \t|      논리곱     \t|       두   피연산자 **모두** True인   경우에만      전체   표현식을 True로   평가     \t|\n",
    "|      or     \t|      논리합     \t|     두   피연산자 중 **하나라도** True인   경우      전체   표현식을 True로   평가    \t|\n",
    "|      not    \t|     논리부정    \t|                               **단일**   피연산자를 **부정**                              \t|\n"
   ]
  },
  {
   "attachments": {},
   "cell_type": "markdown",
   "metadata": {},
   "source": [
    "#### 논리 연산자 예시 (1/2)\n",
    "\n",
    "```python\n",
    "print(True and False) # False\n",
    "\n",
    "print(True or False) # True\n",
    "\n",
    "print(not True) # False\n",
    "\n",
    "print(not 0) # True\n",
    "# 0 = False이기 때문에 not 0이 True가 됨\n",
    "```"
   ]
  },
  {
   "attachments": {},
   "cell_type": "markdown",
   "metadata": {},
   "source": [
    "#### 논리 연산자 예시 (2/2)\n",
    "- 비교 연산자와 함께 사용 가능\n",
    "- 평과 결과가 나오는 연산자\n",
    "\n",
    "    ```python\n",
    "    num = 15\n",
    "    result = (num > 10) and (num % 2 == 0)\n",
    "    # 10보다 큰 짝수를 찾기 위한 조건\n",
    "    print(result) # False\n",
    "\n",
    "\n",
    "    name = 'Alice'\n",
    "    age = 25\n",
    "    result = (name == 'Alice') or (age == 30)\n",
    "    # 이름이 Alice이거나 나이가 30이면 True\n",
    "    print(result) # True\n",
    "    ```"
   ]
  },
  {
   "attachments": {},
   "cell_type": "markdown",
   "metadata": {},
   "source": [
    "#### 단축평가\n",
    "논리 연산에서 **두 번째 피연산자를 평가하지 않고** 결과를 결정하는 동작"
   ]
  },
  {
   "attachments": {},
   "cell_type": "markdown",
   "metadata": {},
   "source": [
    "#### 단축평가 예시 문제\n",
    "\n",
    "```python\n",
    "vowels = 'aeiou'\n",
    "\n",
    "print(('a' and 'b') in vowels) # False  \n",
    "# 앞쪽을 평가하고 향후 in을 평가, b in vowels와 같음 -> False\n",
    "# 문자열의 경우 빈 문자열만 False이고 데이터가 있으면 모두 True로 봄\n",
    "# and는 앞에꺼가 트루면 뒤에꺼를 보기에 뒷값이 나옴\n",
    "\n",
    "print(('b' and 'a') in vowels) # True\n",
    "# 앞의 요소가 이미 평가에서 false가 나오면 다음 요소를 평가하지 않음, 이미 false가 되어버림 \n",
    "# a in vowels와 같음 -> True\n",
    "\n",
    "\n",
    "print(3 and 5)  # 5\n",
    "# 숫자의 경우 0이 아니면 모두 True로 판단\n",
    "print(3 and 0)  # 0 \n",
    "print(0 and 3)  # 0\n",
    "# 0이 암시적 형변환으로 False로 변경 -> 3까지 가지 않고 단축 평가됨\n",
    "\n",
    "print(0 and 0)  # 0\n",
    "# 0이 암시적 형변환으로 False로 변경 -> 앞의 0만 평가해서 반환\n",
    "\n",
    "\n",
    "print(5 or 3)  # 5  \n",
    "# 이건 왜 5일까?\n",
    "# or는 앞에꺼가 트루면 앞에 값이 나옴\n",
    "print(3 or 0)  # 3\n",
    "print(0 or 3)  # 3 \n",
    "# 0이 암시적 형변환으로 False로 변경되지만 or여서 뒷까지 평가 -> 뒤의 3\n",
    "print(0 or 0)  # 0\n",
    "# 0이 암시적 형변환으로 False로 변경되지만 or여서 뒷까지 평가 -> 뒤의 0\n",
    "\n",
    "```"
   ]
  },
  {
   "attachments": {},
   "cell_type": "markdown",
   "metadata": {},
   "source": [
    "#### 단축평가 예시 문제 결과\n",
    "\n",
    "```python\n",
    "vowels = 'aeiou'\n",
    "\n",
    "print(('a' and 'b') in vowels) # False\n",
    "print(('b' and 'a') in vowels) # True\n",
    "\n",
    "print(3 and 5) # 5\n",
    "print(3 and 0) # 0\n",
    "print(0 and 3) # 0\n",
    "print(0 and 0) # 0\n",
    "\n",
    "print(5 or 3) # 5\n",
    "print(3 or 0) # 3\n",
    "print(0 or 3) # 3\n",
    "print(0 or 0) # 0\n",
    "```"
   ]
  },
  {
   "attachments": {},
   "cell_type": "markdown",
   "metadata": {},
   "source": [
    "#### 단축평가 동작\n",
    "- and\n",
    "    - 첫 번째 피연산자가 False인 경우, 전체 표현식은 False로 결정. <br>두 번째 피연산자는 평가되지 않고 그 값이 무시\n",
    "    - 첫 번째 피연산자가 True인 경우, 전체 표현식의 결과는 두 번째 피연산자에 의해 결정. <br>두 번째 피연산자가 평가되고 그 결과가 전체 표현식의 결과로 반환\n",
    "- or\n",
    "    - 첫 번째 피연산자가 True인 경우, 전체 표현식은 True로 결정. <br>두 번째 피연산자는 평가되지 않고 그 값이 무시\n",
    "    - 첫 번째 피연산자가 False인 경우, 전체 표현식의 결과는 두 번째 피연산자에 의해 결정. <br>두 번째 피연산자가 평가되고 그 결과가 전체 표현식의 결과로 반환"
   ]
  },
  {
   "attachments": {},
   "cell_type": "markdown",
   "metadata": {},
   "source": [
    "#### 단축평가 이유\n",
    "코드 실행을 최적화하고, 불필요한 연산을 피할 수 있도록 함"
   ]
  },
  {
   "attachments": {},
   "cell_type": "markdown",
   "metadata": {},
   "source": [
    "#### 실행 해보기"
   ]
  },
  {
   "cell_type": "code",
   "execution_count": null,
   "metadata": {},
   "outputs": [],
   "source": [
    "# 실행 해보기 1\n",
    "print(True and False) \n",
    "\n",
    "print(True or False) \n",
    "\n",
    "print(not True) \n",
    "\n",
    "print(not 0) "
   ]
  },
  {
   "cell_type": "code",
   "execution_count": null,
   "metadata": {},
   "outputs": [],
   "source": [
    "# 실행 해보기 2\n",
    "num = 15\n",
    "result = (num > 10) and (num % 2 == 0)\n",
    "print(result) \n",
    "\n",
    "\n",
    "name = 'Alice'\n",
    "age = 25\n",
    "result = (name == 'Alice') or (age == 30)\n",
    "print(result)"
   ]
  },
  {
   "cell_type": "code",
   "execution_count": 15,
   "metadata": {},
   "outputs": [
    {
     "name": "stdout",
     "output_type": "stream",
     "text": [
      "5\n",
      "5\n"
     ]
    }
   ],
   "source": [
    "# 실행 해보기 3\n",
    "vowels = 'aeiou'\n",
    "\n",
    "print(('a' and 'b') in vowels) \n",
    "print(('b' and 'a') in vowels) \n",
    "\n",
    "print(('b' and '' ) in vowels) \n",
    "\n",
    "\n",
    "print(3 and 5) \n",
    "print(3 and 0) \n",
    "print(0 and 3) \n",
    "print(0 and 0) \n",
    "\n",
    "print(5 or 3) \n",
    "\n",
    "print(3 or 0) \n",
    "print(0 or 3) \n",
    "print(0 or 0) "
   ]
  },
  {
   "attachments": {},
   "cell_type": "markdown",
   "metadata": {},
   "source": [
    "### 멤버십 연산자\n",
    "- 특정 값이 시퀀스나 다른 컬렉션에 ***속하는지*** 여부를 확인\n",
    "\n",
    "|       기호      \t|                                    내용                                  \t|\n",
    "|:---------------:\t|:------------------------------------------------------------------------:\t|\n",
    "|        in       \t|        왼쪽   피연산자가 오른쪽 피연산자의 시퀀스에 속하는지를 확인      \t|\n",
    "|     not   in    \t|     왼쪽   피연산자가 오른쪽 피연산자의 시퀀스에 속하지 않는지를 확인    \t|"
   ]
  },
  {
   "attachments": {},
   "cell_type": "markdown",
   "metadata": {},
   "source": [
    "#### 멤버십 연산자 예시\n",
    "\n",
    "```python\n",
    "word = 'hello'\n",
    "numbers = [1, 2, 3, 4, 5]\n",
    "\n",
    "print('h' in word)  # True\n",
    "print('z' in word)  # False\n",
    "\n",
    "print(4 not in numbers)  # False\n",
    "print(6 not in numbers)  # True\n",
    "```"
   ]
  },
  {
   "attachments": {},
   "cell_type": "markdown",
   "metadata": {},
   "source": [
    "#### 실행 해보기"
   ]
  },
  {
   "cell_type": "code",
   "execution_count": null,
   "metadata": {},
   "outputs": [],
   "source": [
    "# 실행 해보기 1\n",
    "word = 'hello'\n",
    "numbers = [1, 2, 3, 4, 5]\n",
    "\n",
    "print('h' in word)\n",
    "print('z' in word)\n",
    "\n",
    "print(4 not in numbers)\n",
    "print(6 not in numbers)"
   ]
  },
  {
   "attachments": {},
   "cell_type": "markdown",
   "metadata": {},
   "source": [
    "### 시퀀스형 연산자\n",
    "- `+` 와 `*` 는 시퀀스 간 연산에서 산술 연산자일때와 다른 역할을 가짐\n",
    "- 시퀀스와 시퀀스 간에 연산이 이뤄질 때 다른 역할을 가짐\n",
    "\n",
    "|     연산자    \t|          내용        \t|\n",
    "|:-------------:\t|:--------------------:\t|\n",
    "|        +      \t|     **결합**   연산자    \t|\n",
    "|        *      \t|     **반복**   연산자    \t|"
   ]
  },
  {
   "attachments": {},
   "cell_type": "markdown",
   "metadata": {},
   "source": [
    "#### 시퀀스형 연산자 예시\n",
    "\n",
    "```python\n",
    "# Gildong Hong\n",
    "print('Gildong' + ' Hong')\n",
    "\n",
    "# hihihihihi\n",
    "print('hi' * 5)\n",
    "\n",
    "# [1, 2, 'a', 'b']\n",
    "print([1, 2] + ['a', 'b'])\n",
    "\n",
    "# [1, 2, 1, 2]\n",
    "print([1, 2] * 2)\n",
    "```"
   ]
  },
  {
   "attachments": {},
   "cell_type": "markdown",
   "metadata": {},
   "source": [
    "#### 실행 해보기"
   ]
  },
  {
   "cell_type": "code",
   "execution_count": 7,
   "metadata": {},
   "outputs": [
    {
     "name": "stdout",
     "output_type": "stream",
     "text": [
      "Gildong Hong\n",
      "hihihihihi\n",
      "[1, 2, 'a', 'b']\n",
      "[1, 2, 1, 2]\n"
     ]
    }
   ],
   "source": [
    "# 실행 해보기 1\n",
    "print('Gildong' + ' Hong')\n",
    "\n",
    "print('hi' * 5)\n",
    "\n",
    "print([1, 2] + ['a', 'b'])\n",
    "\n",
    "print([1, 2] * 2)"
   ]
  },
  {
   "attachments": {},
   "cell_type": "markdown",
   "metadata": {},
   "source": [
    "### 연산자 우선순위\n",
    "- 헷갈릴 수 있으면 괄호로 묶어주는 게 좋음\n",
    "\n",
    "|     우선순위    \t|             연산자            \t|               내용             \t|\n",
    "|:---------------:\t|:-----------------------------:\t|:------------------------------:\t|\n",
    "|       높음      \t|               ()              \t|        소괄호   grouping       \t|\n",
    "|                 \t|               []              \t|        인덱싱,   슬라이싱      \t|\n",
    "|                 \t|               **              \t|             거듭제곱           \t|\n",
    "|                 \t|             +,   -            \t|     단항   연산자 양수/음수    \t|\n",
    "|                 \t|          *,   /, //, %        \t|          산술   연산자         \t|\n",
    "|                 \t|             +,   -            \t|          산술   연산자         \t|\n",
    "|                 \t|     <,   <=, >, >=, ==, !=    \t|          비교   연산자         \t|\n",
    "|                 \t|          is,   is not         \t|           객체   비교          \t|\n",
    "|                 \t|          in,   not in         \t|         멤버십   연산자        \t|\n",
    "|                 \t|               not             \t|           논리   부정          \t|\n",
    "|                 \t|               and             \t|            논리   AND          \t|\n",
    "|       낮음      \t|               or              \t|            논리   OR           \t|\n"
   ]
  }
 ],
 "metadata": {
  "kernelspec": {
   "display_name": "Python 3",
   "language": "python",
   "name": "python3"
  },
  "language_info": {
   "codemirror_mode": {
    "name": "ipython",
    "version": 3
   },
   "file_extension": ".py",
   "mimetype": "text/x-python",
   "name": "python",
   "nbconvert_exporter": "python",
   "pygments_lexer": "ipython3",
   "version": "3.9.13"
  },
  "orig_nbformat": 4
 },
 "nbformat": 4,
 "nbformat_minor": 2
}
